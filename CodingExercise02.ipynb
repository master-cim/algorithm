{
 "cells": [
  {
   "cell_type": "markdown",
   "metadata": {},
   "source": [
    "# A. Значения функции\n",
    "Ограничение времени\t0.4 секунды\n",
    "Ограничение памяти\t64Mb\n",
    "Ввод\tстандартный ввод или input.txt\n",
    "Вывод\tстандартный вывод или output.txt\n",
    "Вася делает тест по математике: вычисляет значение функций в различных точках. Стоит отличная погода, и друзья зовут Васю гулять. Но мальчик решил сначала закончить тест и только после этого идти к друзьям. К сожалению, Вася пока не умеет программировать. Зато вы умеете. Помогите Васе написать код функции, вычисляющей y = ax^2 + bx + c. Напишите программу, которая будет по коэффициентам a, b, c и числу x выводить значение функции в точке x.\n",
    "\n",
    "Формат ввода\n",
    "На вход через пробел подаются числа a, x, b, c. В конце ввода находится перенос строки.\n",
    "\n",
    "Формат вывода\n",
    "Выведите одно число — значение функции в точке x.\n",
    "Пример 1\n",
    "Ввод\t        Вывод\n",
    "-8 -5 -2 7      -183\n",
    "Пример 2\n",
    "Ввод\t        Вывод\n",
    "8 2 9 -10       40"
   ]
  },
  {
   "cell_type": "code",
   "execution_count": null,
   "metadata": {},
   "outputs": [],
   "source": [
    "a, x, b, c = map(int, input().split())\n",
    "print((a*(x**2)) + b*x + c)"
   ]
  },
  {
   "cell_type": "markdown",
   "metadata": {},
   "source": [
    "# B. Чётные и нечётные числа\n",
    "Ограничение времени\t0.15 секунд\n",
    "Ограничение памяти\t64Mb\n",
    "Ввод\tстандартный ввод или input.txt\n",
    "Вывод\tстандартный вывод или output.txt\n",
    "Алла придумала такую онлайн-игру: игрок нажимает на кнопку, и на экране появляются три случайных числа. Если все три числа оказываются одной чётности, игрок выигрывает.\n",
    "\n",
    "Напишите программу, которая по трём числам определяет, выиграл игрок или нет.\n",
    "\n",
    "### Формат ввода\n",
    "В первой строке записаны три случайных целых числа a, b и c. Числа не превосходят 109 по модулю.\n",
    "\n",
    "### Формат вывода\n",
    "Выведите «WIN», если игрок выиграл, и «FAIL» в противном случае.\n",
    "\n",
    "### Пример 1\n",
    "Ввод\tВывод\n",
    "1 2 -3\n",
    "FAIL\n",
    "### Пример 2\n",
    "Ввод\tВывод\n",
    "7 11 7\n",
    "WIN\n",
    "### Пример 3\n",
    "Ввод\tВывод\n",
    "6 -2 0\n",
    "WIN"
   ]
  },
  {
   "cell_type": "code",
   "execution_count": null,
   "metadata": {},
   "outputs": [],
   "source": [
    "from typing import List, Tuple\n",
    "\n",
    "\n",
    "def modulo(arr) -> Tuple[int, int]:\n",
    "    count_p = 0\n",
    "    count_n = 0\n",
    "    for i in range(0, len(arr)):\n",
    "        if arr[i] % 2 == 0:\n",
    "            count_p += 1\n",
    "        else:\n",
    "            count_n += 1\n",
    "    if count_p == 3 or count_n == 3:\n",
    "        print('WIN')\n",
    "    else:\n",
    "        print('FAIL')\n",
    "\n",
    "\n",
    "def read_input() -> List[int]:\n",
    "    arr = list(map(int, input().strip().split()))\n",
    "    return arr\n",
    "\n",
    "\n",
    "arr = read_input()\n",
    "modulo(arr)"
   ]
  },
  {
   "cell_type": "code",
   "execution_count": 17,
   "metadata": {},
   "outputs": [
    {
     "name": "stdout",
     "output_type": "stream",
     "text": [
      "[3, 2, 1, 0, 1, 0, 0, 1, 2, 2, 1, 0]\n"
     ]
    }
   ],
   "source": [
    "lst = [0, 0, 0, 1, 0, 1, 1, 0, 0, 0, 0, 1]\n",
    "\n",
    "# initialize the distances to infinity\n",
    "distances = [float('inf')] * len(lst)\n",
    "\n",
    "# loop over the list twice, once from the left and once from the right\n",
    "for indices in [range(len(lst)), range(len(lst)-1, -1, -1)]:\n",
    "    # keep track of the distance to the last seen non-zero value\n",
    "    distance = float('inf')\n",
    "\n",
    "    for i in indices:\n",
    "        # when we find a non-zero value, set the distance to 0\n",
    "        if lst[i] != 0:\n",
    "            distance = 0\n",
    "\n",
    "        distances[i] = min(distances[i], distance)\n",
    "\n",
    "        # with each step we take, increase the distance by 1\n",
    "        distance += 1\n",
    "\n",
    "print(distances)\n",
    "# output: [3, 2, 1, 0, 1, 0, 0, 1, 2, 2, 1, 0]"
   ]
  },
  {
   "cell_type": "code",
   "execution_count": 16,
   "metadata": {},
   "outputs": [
    {
     "name": "stdout",
     "output_type": "stream",
     "text": [
      "[0, 1, 0, 0, 0, 2, 1, 0]\n",
      "[0, 2, 1, 0, 0, 0, 1, 0]\n",
      "[0, 1, 0, 0, 0, 1, 2, 0]\n",
      "[0, 1, 0, 0, 0, 1, 1, 0]\n"
     ]
    }
   ],
   "source": [
    "s = [0, 1, 0, 0, 0, 1, 2, 0]\n",
    "\n",
    "\n",
    "forward = [s[i:].index(0) if x!=0 else 0 for i, x in enumerate(s)]\n",
    "print(forward)\n",
    "\n",
    "s_r = s[::-1]\n",
    "print(s_r)\n",
    "\n",
    "backward = [s_r[j:].index(0) if 0 in s_r[j:] else 0 if x==0 else float('inf') for j, x in enumerate(s_r)][::-1]\n",
    "print(backward)\n",
    "\n",
    "\n",
    "\n",
    "print([min(i,j) for i, j in zip(forward, backward)])"
   ]
  },
  {
   "cell_type": "code",
   "execution_count": 15,
   "metadata": {},
   "outputs": [
    {
     "name": "stdout",
     "output_type": "stream",
     "text": [
      "inf inf inf inf inf inf inf inf inf\n"
     ]
    }
   ],
   "source": [
    "house_list = [2, 5, 0, 7, 2, 3, 0, 6, 0]\n",
    "n = 9\n",
    "\n",
    "def distance_one_way(house_list):\n",
    "    last_null = -1\n",
    "    one_way_list = [0] * n\n",
    "    for null_number in range(0, n):\n",
    "        if house_list[null_number] == '0':\n",
    "            for house_number in range(last_null + 1, null_number):\n",
    "                one_way_list[house_number] = abs(house_number-null_number)\n",
    "            last_null = int(null_number)\n",
    "    if last_null < n:\n",
    "        for house_number in range(last_null+1, n):\n",
    "            one_way_list[house_number] = float(\"inf\")\n",
    "    return one_way_list\n",
    "        \n",
    "        \n",
    "def distance_two_way(house_list):\n",
    "    forward = distance_one_way(house_list)\n",
    "    backward = distance_one_way(house_list[::-1])\n",
    "    final_list = [min(forward_dist, back_dist)\n",
    "                    for forward_dist, back_dist in zip(forward, backward[::-1])]\n",
    "    final_list = [str(distance) for distance in final_list]\n",
    "    return final_list\n",
    "        \n",
    "\n",
    "print(\" \".join(distance_two_way(house_list)))"
   ]
  },
  {
   "cell_type": "code",
   "execution_count": 43,
   "metadata": {},
   "outputs": [
    {
     "ename": "IndexError",
     "evalue": "list index out of range",
     "output_type": "error",
     "traceback": [
      "\u001b[1;31m---------------------------------------------------------------------------\u001b[0m",
      "\u001b[1;31mIndexError\u001b[0m                                Traceback (most recent call last)",
      "Input \u001b[1;32mIn [43]\u001b[0m, in \u001b[0;36m<module>\u001b[1;34m\u001b[0m\n\u001b[0;32m     11\u001b[0m     bwd\u001b[39m.\u001b[39mappend(i)\n\u001b[0;32m     13\u001b[0m bw \u001b[39m=\u001b[39m \u001b[39mabs\u001b[39m(i \u001b[39m-\u001b[39m fwd[\u001b[39m0\u001b[39m])\n\u001b[1;32m---> 14\u001b[0m fw \u001b[39m=\u001b[39m \u001b[39mabs\u001b[39m(i \u001b[39m-\u001b[39m bwd[\u001b[39m0\u001b[39;49m])\n\u001b[0;32m     15\u001b[0m \u001b[39mif\u001b[39;00m a[i] \u001b[39m==\u001b[39m \u001b[39m0\u001b[39m:\n\u001b[0;32m     16\u001b[0m     \u001b[39mif\u001b[39;00m \u001b[39mlen\u001b[39m(fwd) \u001b[39m>\u001b[39m \u001b[39m1\u001b[39m:\n",
      "\u001b[1;31mIndexError\u001b[0m: list index out of range"
     ]
    }
   ],
   "source": [
    "n = 9\n",
    "a = [2, 5, 0, 7, 2, 3, 0, 6, 0]\n",
    "a_rev = list(reversed(a))\n",
    "\n",
    "fwd = []\n",
    "bwd = []\n",
    "while i < n:\n",
    "    if a[i] == 0:\n",
    "        fwd.append(i)\n",
    "    if a_rev[i] == 0:\n",
    "        bwd.append(i)\n",
    "for i in range(n):\n",
    "    bw = abs(i - fwd[0])\n",
    "    fw = abs(i - bwd[0])\n",
    "    if a[i] == 0:\n",
    "        if len(fwd) > 1:\n",
    "            fwd.pop(0)\n",
    "    if a_rev[i] == 0:\n",
    "        if len(bwd) > 1:\n",
    "            bwd.pop(0)\n",
    "    a[i] = bw\n",
    "    a_rev[i] = fw\n",
    "a_rev = a_rev[::-1]\n",
    "rezult_dist = [min(f, b) for f, b in zip(a, a_rev)]\n",
    "result_list_string = [str(i) for i in rezult_dist]\n",
    "result_string = ' '.join(result_list_string)\n",
    "# вывод в терминал\n",
    "print(result_string)"
   ]
  }
 ],
 "metadata": {
  "interpreter": {
   "hash": "2aa30e7c4e40bd39dc2b9b6c771f0a3e85065fe17ed30f75fb5561f772181d1a"
  },
  "kernelspec": {
   "display_name": "Python 3.9.7 ('venv': venv)",
   "language": "python",
   "name": "python3"
  },
  "language_info": {
   "codemirror_mode": {
    "name": "ipython",
    "version": 3
   },
   "file_extension": ".py",
   "mimetype": "text/x-python",
   "name": "python",
   "nbconvert_exporter": "python",
   "pygments_lexer": "ipython3",
   "version": "3.9.7"
  },
  "orig_nbformat": 4
 },
 "nbformat": 4,
 "nbformat_minor": 2
}
