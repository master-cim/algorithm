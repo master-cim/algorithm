{
 "cells": [
  {
   "cell_type": "markdown",
   "metadata": {},
   "source": [
    "# A. Значения функции"
   ]
  },
  {
   "cell_type": "markdown",
   "metadata": {},
   "source": [
    "Ограничение времени\t0.4 секунды\n",
    "Ограничение памяти\t64Mb\n",
    "Ввод\tстандартный ввод или input.txt\n",
    "Вывод\tстандартный вывод или output.txt"
   ]
  },
  {
   "cell_type": "markdown",
   "metadata": {},
   "source": [
    "Вася делает тест по математике: вычисляет значение функций в различных точках. Стоит отличная погода, и друзья зовут Васю гулять. Но мальчик решил сначала закончить тест и только после этого идти к друзьям. К сожалению, Вася пока не умеет программировать. Зато вы умеете. Помогите Васе написать код функции, вычисляющей y = ax^2 + bx + c. Напишите программу, которая будет по коэффициентам a, b, c и числу x выводить значение функции в точке x.\n",
    "\n",
    "Формат ввода\n",
    "На вход через пробел подаются числа a, x, b, c. В конце ввода находится перенос строки.\n",
    "\n",
    "Формат вывода\n",
    "Выведите одно число — значение функции в точке x."
   ]
  },
  {
   "cell_type": "markdown",
   "metadata": {},
   "source": [
    "Пример 1\n",
    "Ввод\t        Вывод\n",
    "-8 -5 -2 7      -183\n",
    "Пример 2\n",
    "Ввод\t        Вывод\n",
    "8 2 9 -10       40"
   ]
  },
  {
   "cell_type": "code",
   "execution_count": 1,
   "metadata": {},
   "outputs": [],
   "source": [
    "a, x, b, c = map(int, input().split())\n",
    "print((a*(x**2)) + b*x + c)"
   ]
  },
  {
   "cell_type": "markdown",
   "metadata": {},
   "source": [
    "# A. A+B\n",
    "Это ваша первая задача. Напишите программу, которая считывает два целых числа и выводит их сумму."
   ]
  },
  {
   "cell_type": "markdown",
   "metadata": {},
   "source": [
    "Ограничение времени\t1 секунда\n",
    "Ограничение памяти\t64Mb\n",
    "Ввод\tстандартный ввод или input.txt\n",
    "Вывод\tстандартный вывод или output.txt\n"
   ]
  },
  {
   "cell_type": "markdown",
   "metadata": {},
   "source": [
    "## Формат ввода\n",
    "В первой строке записано первое число. Во второй строке — второе число. Оба числа целые и лежат в диапазоне от -10^9 до 10^9. Ввод заканчивается переносом строки."
   ]
  },
  {
   "cell_type": "markdown",
   "metadata": {},
   "source": [
    "## Формат вывода\n",
    "Выведите на стандартный поток вывода или в файл output.txt единственное число –— сумму двух переданных программе чисел."
   ]
  },
  {
   "cell_type": "code",
   "execution_count": null,
   "metadata": {},
   "outputs": [],
   "source": [
    "from typing import Tuple\n",
    "\n",
    "def get_sum(a: int, b: int) -> int:\n",
    "    result = a + b\n",
    "    return result\n",
    "\n",
    "def read_input() -> Tuple[int, int]:\n",
    "    a = int(input())\n",
    "    b = int(input())\n",
    "    return a, b\n",
    "\n",
    "a, b = read_input()\n",
    "print(get_sum(a, b))"
   ]
  },
  {
   "cell_type": "markdown",
   "metadata": {},
   "source": [
    "# B. Застёжка-молния\n",
    "Даны два массива чисел длины n. Составьте из них один массив длины 2n, в котором числа из входных массивов чередуются (первый — второй — первый — второй — ...). При этом относительный порядок следования чисел из одного массива должен быть сохранён."
   ]
  },
  {
   "cell_type": "markdown",
   "metadata": {},
   "source": [
    "## Формат ввода\n",
    "В первой строке записано целое число n –— длина каждого из массивов, 1 ≤ n ≤ 1000.\n",
    "\n",
    "Во второй строке записано n чисел из первого массива, через пробел.\n",
    "\n",
    "В третьей строке –— n чисел из второго массива.\n",
    "\n",
    "Значения всех чисел –— натуральные и не превосходят 1000."
   ]
  },
  {
   "cell_type": "markdown",
   "metadata": {},
   "source": [
    "## Формат вывода\n",
    "Выведите 2n чисел из объединённого массива через пробел."
   ]
  },
  {
   "cell_type": "markdown",
   "metadata": {},
   "source": [
    "Пример 1\n",
    "Ввод\tВывод\n",
    "3\n",
    "1 2 3\n",
    "4 5 6\n",
    "1 4 2 5 3 6\n",
    "Пример 2\n",
    "Ввод\tВывод\n",
    "1\n",
    "1\n",
    "2\n",
    "1 2\n",
    "Пример 3\n",
    "Ввод\tВывод\n",
    "3\n",
    "1 8 9\n",
    "2 3 1\n",
    "1 2 8 3 9 1"
   ]
  },
  {
   "cell_type": "code",
   "execution_count": 2,
   "metadata": {},
   "outputs": [
    {
     "ename": "KeyboardInterrupt",
     "evalue": "Interrupted by user",
     "output_type": "error",
     "traceback": [
      "\u001b[1;31m---------------------------------------------------------------------------\u001b[0m",
      "\u001b[1;31mKeyboardInterrupt\u001b[0m                         Traceback (most recent call last)",
      "\u001b[1;32md:\\Dev\\algorithm\\CodingExercise01.ipynb Cell 15'\u001b[0m in \u001b[0;36m<module>\u001b[1;34m\u001b[0m\n\u001b[0;32m     <a href='vscode-notebook-cell:/d%3A/Dev/algorithm/CodingExercise01.ipynb#ch0000030?line=12'>13</a>\u001b[0m     b \u001b[39m=\u001b[39m \u001b[39mlist\u001b[39m(\u001b[39mmap\u001b[39m(\u001b[39mint\u001b[39m, \u001b[39minput\u001b[39m()\u001b[39m.\u001b[39mstrip()\u001b[39m.\u001b[39msplit()))\n\u001b[0;32m     <a href='vscode-notebook-cell:/d%3A/Dev/algorithm/CodingExercise01.ipynb#ch0000030?line=13'>14</a>\u001b[0m     \u001b[39mreturn\u001b[39;00m n, a, b\n\u001b[1;32m---> <a href='vscode-notebook-cell:/d%3A/Dev/algorithm/CodingExercise01.ipynb#ch0000030?line=15'>16</a>\u001b[0m n, a, b \u001b[39m=\u001b[39m read_input()\n\u001b[0;32m     <a href='vscode-notebook-cell:/d%3A/Dev/algorithm/CodingExercise01.ipynb#ch0000030?line=16'>17</a>\u001b[0m \u001b[39mprint\u001b[39m(\u001b[39m\"\u001b[39m\u001b[39m \u001b[39m\u001b[39m\"\u001b[39m\u001b[39m.\u001b[39mjoin(\u001b[39mmap\u001b[39m(\u001b[39mstr\u001b[39m, zipper(a, b))))\n",
      "\u001b[1;32md:\\Dev\\algorithm\\CodingExercise01.ipynb Cell 15'\u001b[0m in \u001b[0;36mread_input\u001b[1;34m()\u001b[0m\n\u001b[0;32m     <a href='vscode-notebook-cell:/d%3A/Dev/algorithm/CodingExercise01.ipynb#ch0000030?line=9'>10</a>\u001b[0m \u001b[39mdef\u001b[39;00m \u001b[39mread_input\u001b[39m() \u001b[39m-\u001b[39m\u001b[39m>\u001b[39m Tuple[\u001b[39mint\u001b[39m, List[\u001b[39mint\u001b[39m], List[\u001b[39mint\u001b[39m]]:\n\u001b[1;32m---> <a href='vscode-notebook-cell:/d%3A/Dev/algorithm/CodingExercise01.ipynb#ch0000030?line=10'>11</a>\u001b[0m     n \u001b[39m=\u001b[39m \u001b[39mint\u001b[39m(\u001b[39minput\u001b[39;49m())\n\u001b[0;32m     <a href='vscode-notebook-cell:/d%3A/Dev/algorithm/CodingExercise01.ipynb#ch0000030?line=11'>12</a>\u001b[0m     a \u001b[39m=\u001b[39m \u001b[39mlist\u001b[39m(\u001b[39mmap\u001b[39m(\u001b[39mint\u001b[39m, \u001b[39minput\u001b[39m()\u001b[39m.\u001b[39mstrip()\u001b[39m.\u001b[39msplit()))\n\u001b[0;32m     <a href='vscode-notebook-cell:/d%3A/Dev/algorithm/CodingExercise01.ipynb#ch0000030?line=12'>13</a>\u001b[0m     b \u001b[39m=\u001b[39m \u001b[39mlist\u001b[39m(\u001b[39mmap\u001b[39m(\u001b[39mint\u001b[39m, \u001b[39minput\u001b[39m()\u001b[39m.\u001b[39mstrip()\u001b[39m.\u001b[39msplit()))\n",
      "File \u001b[1;32m~\\AppData\\Roaming\\Python\\Python39\\site-packages\\ipykernel\\kernelbase.py:1062\u001b[0m, in \u001b[0;36mKernel.raw_input\u001b[1;34m(self, prompt)\u001b[0m\n\u001b[0;32m   <a href='file:///~/AppData/Roaming/Python/Python39/site-packages/ipykernel/kernelbase.py?line=1057'>1058</a>\u001b[0m \u001b[39mif\u001b[39;00m \u001b[39mnot\u001b[39;00m \u001b[39mself\u001b[39m\u001b[39m.\u001b[39m_allow_stdin:\n\u001b[0;32m   <a href='file:///~/AppData/Roaming/Python/Python39/site-packages/ipykernel/kernelbase.py?line=1058'>1059</a>\u001b[0m     \u001b[39mraise\u001b[39;00m StdinNotImplementedError(\n\u001b[0;32m   <a href='file:///~/AppData/Roaming/Python/Python39/site-packages/ipykernel/kernelbase.py?line=1059'>1060</a>\u001b[0m         \u001b[39m\"\u001b[39m\u001b[39mraw_input was called, but this frontend does not support input requests.\u001b[39m\u001b[39m\"\u001b[39m\n\u001b[0;32m   <a href='file:///~/AppData/Roaming/Python/Python39/site-packages/ipykernel/kernelbase.py?line=1060'>1061</a>\u001b[0m     )\n\u001b[1;32m-> <a href='file:///~/AppData/Roaming/Python/Python39/site-packages/ipykernel/kernelbase.py?line=1061'>1062</a>\u001b[0m \u001b[39mreturn\u001b[39;00m \u001b[39mself\u001b[39;49m\u001b[39m.\u001b[39;49m_input_request(\n\u001b[0;32m   <a href='file:///~/AppData/Roaming/Python/Python39/site-packages/ipykernel/kernelbase.py?line=1062'>1063</a>\u001b[0m     \u001b[39mstr\u001b[39;49m(prompt),\n\u001b[0;32m   <a href='file:///~/AppData/Roaming/Python/Python39/site-packages/ipykernel/kernelbase.py?line=1063'>1064</a>\u001b[0m     \u001b[39mself\u001b[39;49m\u001b[39m.\u001b[39;49m_parent_ident[\u001b[39m\"\u001b[39;49m\u001b[39mshell\u001b[39;49m\u001b[39m\"\u001b[39;49m],\n\u001b[0;32m   <a href='file:///~/AppData/Roaming/Python/Python39/site-packages/ipykernel/kernelbase.py?line=1064'>1065</a>\u001b[0m     \u001b[39mself\u001b[39;49m\u001b[39m.\u001b[39;49mget_parent(\u001b[39m\"\u001b[39;49m\u001b[39mshell\u001b[39;49m\u001b[39m\"\u001b[39;49m),\n\u001b[0;32m   <a href='file:///~/AppData/Roaming/Python/Python39/site-packages/ipykernel/kernelbase.py?line=1065'>1066</a>\u001b[0m     password\u001b[39m=\u001b[39;49m\u001b[39mFalse\u001b[39;49;00m,\n\u001b[0;32m   <a href='file:///~/AppData/Roaming/Python/Python39/site-packages/ipykernel/kernelbase.py?line=1066'>1067</a>\u001b[0m )\n",
      "File \u001b[1;32m~\\AppData\\Roaming\\Python\\Python39\\site-packages\\ipykernel\\kernelbase.py:1107\u001b[0m, in \u001b[0;36mKernel._input_request\u001b[1;34m(self, prompt, ident, parent, password)\u001b[0m\n\u001b[0;32m   <a href='file:///~/AppData/Roaming/Python/Python39/site-packages/ipykernel/kernelbase.py?line=1103'>1104</a>\u001b[0m             \u001b[39mbreak\u001b[39;00m\n\u001b[0;32m   <a href='file:///~/AppData/Roaming/Python/Python39/site-packages/ipykernel/kernelbase.py?line=1104'>1105</a>\u001b[0m \u001b[39mexcept\u001b[39;00m \u001b[39mKeyboardInterrupt\u001b[39;00m:\n\u001b[0;32m   <a href='file:///~/AppData/Roaming/Python/Python39/site-packages/ipykernel/kernelbase.py?line=1105'>1106</a>\u001b[0m     \u001b[39m# re-raise KeyboardInterrupt, to truncate traceback\u001b[39;00m\n\u001b[1;32m-> <a href='file:///~/AppData/Roaming/Python/Python39/site-packages/ipykernel/kernelbase.py?line=1106'>1107</a>\u001b[0m     \u001b[39mraise\u001b[39;00m \u001b[39mKeyboardInterrupt\u001b[39;00m(\u001b[39m\"\u001b[39m\u001b[39mInterrupted by user\u001b[39m\u001b[39m\"\u001b[39m) \u001b[39mfrom\u001b[39;00m \u001b[39mNone\u001b[39m\n\u001b[0;32m   <a href='file:///~/AppData/Roaming/Python/Python39/site-packages/ipykernel/kernelbase.py?line=1107'>1108</a>\u001b[0m \u001b[39mexcept\u001b[39;00m \u001b[39mException\u001b[39;00m:\n\u001b[0;32m   <a href='file:///~/AppData/Roaming/Python/Python39/site-packages/ipykernel/kernelbase.py?line=1108'>1109</a>\u001b[0m     \u001b[39mself\u001b[39m\u001b[39m.\u001b[39mlog\u001b[39m.\u001b[39mwarning(\u001b[39m\"\u001b[39m\u001b[39mInvalid Message:\u001b[39m\u001b[39m\"\u001b[39m, exc_info\u001b[39m=\u001b[39m\u001b[39mTrue\u001b[39;00m)\n",
      "\u001b[1;31mKeyboardInterrupt\u001b[0m: Interrupted by user"
     ]
    }
   ],
   "source": [
    "from typing import List, Tuple\n",
    "\n",
    "def zipper(n: int, a: List[int], b: List[int]) -> List[int]:\n",
    "    result = []\n",
    "    for i in range(0, n):\n",
    "        result.append(a[i])\n",
    "        result.append(b[i])\n",
    "    return result\n",
    "\n",
    "def read_input() -> Tuple[int, List[int], List[int]]:\n",
    "    n = int(input())\n",
    "    a = list(map(int, input().strip().split()))\n",
    "    b = list(map(int, input().strip().split()))\n",
    "    return n, a, b\n",
    "\n",
    "n, a, b = read_input()\n",
    "print(\" \".join(map(str, zipper(n, a, b))))"
   ]
  },
  {
   "cell_type": "markdown",
   "metadata": {},
   "source": [
    "# C. Скользящее среднее"
   ]
  },
  {
   "cell_type": "markdown",
   "metadata": {},
   "source": [
    "Ограничение времени\t1 секунда\n",
    "Ограничение памяти\t64Mb\n",
    "Ввод\tстандартный ввод или input.txt\n",
    "Вывод\tстандартный вывод или output.txt"
   ]
  },
  {
   "cell_type": "markdown",
   "metadata": {},
   "source": [
    "Вам дана статистика по числу запросов в секунду к вашему любимому рекомендательному сервису.\n",
    "\n",
    "Измерения велись n секунд.\n",
    "\n",
    "В секунду i поступает q_i запросов.\n",
    "\n",
    "Примените метод скользящего среднего с длиной окна k к этим данным и выведите результат."
   ]
  },
  {
   "cell_type": "markdown",
   "metadata": {},
   "source": [
    "##  Формат ввода\n",
    "В первой строке передаётся натуральное число n, количество секунд, в течение которых велись измерения. 1 ≤ n ≤ 10^5\n",
    "\n",
    "Во второй строке через пробел записаны n целых неотрицательных чисел q_i, каждое лежит в диапазоне от 0 до 10^3.\n",
    "\n",
    "В третьей строке записано натуральное число k (1 ≤ k ≤ n) —– окно сглаживания.\n",
    "\n",
    "Примечание для Go:\n",
    "\n",
    "Заметьте, что в данной задаче достаточно большой размер ввода. Поэтому необходимо задавать размер буфера для сканнера хотя бы 600 Кб."
   ]
  },
  {
   "cell_type": "markdown",
   "metadata": {},
   "source": [
    "## Формат вывода\n",
    "Выведите через пробел результат применения метода скользящего среднего к серии измерений. Должно быть выведено n - k + 1 элементов, каждый элемент -— вещественное (дробное) число.\n",
    "\n",
    "Пример 1\n",
    "Ввод\t            Вывод\n",
    "7                   2.5 3.5 4.5 5.5\n",
    "1 2 3 4 5 6 7\n",
    "4\n",
    "\n",
    "Пример 2\n",
    "9                   4.6666666667 1.666666667 1 2 2.333333335 2 0.3333333\n",
    "9 3 2 0 1 5 1 0 0\n",
    "3\n",
    "\n",
    "Пример 3\n",
    "Ввод\t            Вывод\n",
    "5                   3\n",
    "1 2 3 4 5\n",
    "5\n"
   ]
  },
  {
   "cell_type": "code",
   "execution_count": 2,
   "metadata": {},
   "outputs": [],
   "source": [
    "n = int(input())                       # Считывание первой строки ввода\n",
    "arr = list(map(int, input().split()))  # Считывание второй строки ввода\n",
    "K = int(input())                       # Считывание третьей строки ввода\n",
    "result = []  # Пустой массив.\n",
    "# Первый раз вычисляем значение честно и сохраняем результат.\n",
    "current_sum = sum(arr[0:K])\n",
    "result.append(current_sum / K)\n",
    "for i in range(0, n - K):\n",
    "    current_sum -= arr[i]\n",
    "    current_sum += arr[i+K]\n",
    "    current_avg = current_sum / K\n",
    "    result.append(current_avg)\n",
    "print(\" \".join(list(map(str, result))))  # Выводит массив через пробел\n"
   ]
  },
  {
   "cell_type": "markdown",
   "metadata": {},
   "source": [
    "# D. Две фишки"
   ]
  },
  {
   "cell_type": "markdown",
   "metadata": {},
   "source": [
    "Рита и Гоша играют в игру. У Риты есть n фишек, на каждой из которых написано количество очков. Сначала Гоша называет число k, затем Рита должна выбрать две фишки, сумма очков на которых равна заданному числу.\n",
    "\n",
    "Рите надоело искать фишки самой, и она решила применить свои навыки программирования для решения этой задачи. Помогите ей написать программу для поиска нужных фишек."
   ]
  },
  {
   "cell_type": "markdown",
   "metadata": {},
   "source": [
    "Ограничение времени\t4 секунды\n",
    "Ограничение памяти\t256Mb\n",
    "Ввод\tстандартный ввод или input.txt\n",
    "Вывод\tстандартный вывод или output.txt"
   ]
  },
  {
   "cell_type": "markdown",
   "metadata": {},
   "source": [
    "## Формат ввода\n",
    "В первой строке записано количество фишек n, 2 ≤ n ≤ 10^4.\n",
    "\n",
    "Во второй строке записано n целых чисел —– очки на фишках Риты в диапазоне от -10^5 до 10^5.\n",
    "\n",
    "В третьей строке —– загаданное Гошей целое число k, -10^5 ≤ k ≤ 10^5."
   ]
  },
  {
   "cell_type": "markdown",
   "metadata": {},
   "source": [
    "## Формат вывода\n",
    "Нужно вывести два числа —– очки на двух фишках, в сумме дающие k.\n",
    "\n",
    "Если таких пар несколько, то можно вывести любую из них.\n",
    "\n",
    "Если таких пар не существует, то вывести «None»."
   ]
  },
  {
   "cell_type": "markdown",
   "metadata": {},
   "source": [
    "### Пример 1\n",
    "Ввод\t                    Вывод\n",
    "6                           -1 3\n",
    "-1 -1 -9 -7 3 -6\n",
    "2\n"
   ]
  },
  {
   "cell_type": "markdown",
   "metadata": {},
   "source": [
    "### Пример 2\n",
    "Ввод\t                    Вывод\n",
    "8                           None\n",
    "6 2 8 -3 1 1 6 10\n",
    "100\n"
   ]
  },
  {
   "cell_type": "code",
   "execution_count": 1,
   "metadata": {},
   "outputs": [
    {
     "name": "stdout",
     "output_type": "stream",
     "text": [
      "-1 3 -1 3\n"
     ]
    }
   ],
   "source": [
    "n = int(input())                       # Считывание первой строки ввода\n",
    "arr = list(map(int, input().split()))  # Считывание второй строки ввода\n",
    "k = int(input())                       # Считывание третьей строки ввода\n",
    "result = []  # Пустой массив.\n",
    "for i in range(0, n):\n",
    "    for j in range(i+1, n):\n",
    "        if arr[i] + arr[j] == k:\n",
    "            result.append(arr[i])\n",
    "            result.append(arr[j])\n",
    "print(\" \".join(list(map(str, result))))"
   ]
  },
  {
   "cell_type": "code",
   "execution_count": null,
   "metadata": {},
   "outputs": [],
   "source": [
    "from typing import List, Tuple, Optional\n",
    "\n",
    "def two_sum(n: int, arr: List[int], target_sum: int) -> Optional[Tuple[int, int]]:\n",
    "    for i in range(0, n):\n",
    "        for j in range(i+1, n):\n",
    "            if arr[i] + arr[j] == target_sum:\n",
    "                return arr[i], arr[j]\n",
    "\n",
    "def read_input() ->  Tuple[int, List[int], int]:\n",
    "    n = int(input())\n",
    "    arr = list(map(int, input().strip().split()))\n",
    "    target_sum = int(input())\n",
    "    return n, arr, target_sum\n",
    "\n",
    "def print_result(result: Optional[Tuple[int, int]]) -> None:\n",
    "    if result is (None):\n",
    "        print(None)\n",
    "    else:\n",
    "        print(\" \".join(map(str, result)))\n",
    "\n",
    "n, arr, target_sum = read_input()\n",
    "print_result(two_sum(n, arr, target_sum))"
   ]
  },
  {
   "cell_type": "markdown",
   "metadata": {},
   "source": [
    "# E. Две фишки - 2\n",
    "Обратите внимание на ограничения в этой задаче.\n",
    "\n",
    "Рита и Гоша играют в игру. У Риты есть n фишек, на каждой из которых написано количество очков. Фишки лежат на столе в порядке неубывания очков на них. Сначала Гоша называет число k, затем Рита должна выбрать две фишки, сумма очков на которых равна заданному числу.\n",
    "\n",
    "Рите надоело искать фишки самой, и она решила применить свои навыки программирования для решения этой задачи. Помогите ей написать программу для поиска нужных фишек.\n",
    "\n",
    "\tВсе языки\tGNU c++17 7.3\n",
    "Ограничение времени\t1 секунда\t0.2 секунды\n",
    "Ограничение памяти\t256Mb\t64Mb\n",
    "Ввод\tстандартный ввод или input.txt\n",
    "Вывод\tстандартный вывод или output.txt"
   ]
  },
  {
   "cell_type": "markdown",
   "metadata": {},
   "source": [
    "## Формат ввода\n",
    "В первой строке записано количество фишек n, 2 ≤ n ≤ 10^5.\n",
    "Во второй строке записано n целых чисел в порядке неубывания —– очки на фишках Риты в диапазоне от -10^5 до 10^5.\n",
    "В третьей строке —– загаданное Гошей целое число k, -10^5 ≤ k ≤ 10^5."
   ]
  },
  {
   "cell_type": "markdown",
   "metadata": {},
   "source": [
    "## Формат вывода\n",
    "Нужно вывести два числа —– очки на двух фишках, в сумме дающие k.\n",
    "Если таких пар несколько, то можно вывести любую из них.\n",
    "Если таких пар не существует, то вывести «None».\n",
    "\n",
    "Пример 1\n",
    "Ввод\tВывод\n",
    "6\n",
    "-9 -7 -6 -1 -1 3\n",
    "2\n",
    "-1 3\n",
    "Пример 2\n",
    "Ввод\tВывод\n",
    "8\n",
    "-3 1 1 2 6 6 8 10\n",
    "100"
   ]
  },
  {
   "cell_type": "code",
   "execution_count": null,
   "metadata": {},
   "outputs": [],
   "source": [
    "from typing import List, Tuple, Optional\n",
    "\n",
    "def two_sum(n: int, arr: List[int], target_sum: int) -> Optional[Tuple[int, int]]:\n",
    "    previous = set()\n",
    "    for A in range(0, n):\n",
    "        Y = target_sum - (arr[A])\n",
    "        if Y in previous:\n",
    "            return arr[A], Y\n",
    "        else:\n",
    "            previous.add(arr[A])\n",
    "\n",
    "def read_input() -> Tuple[int, List[int], int]:\n",
    "    n = int(input())\n",
    "    arr = list(map(int, input().strip().split()))\n",
    "    target_sum = int(input())\n",
    "    return n, arr, target_sum\n",
    "\n",
    "def print_result(result: Optional[Tuple[int, int]]) -> None:\n",
    "    if result is None:\n",
    "        print(None)\n",
    "    else:\n",
    "        print(\" \".join(map(str, result)))\n",
    "\n",
    "n, arr, target_sum = read_input()\n",
    "print_result(two_sum(n, arr, target_sum))"
   ]
  }
 ],
 "metadata": {
  "kernelspec": {
   "display_name": "Python 3",
   "language": "python",
   "name": "python3"
  },
  "language_info": {
   "codemirror_mode": {
    "name": "ipython",
    "version": 3
   },
   "file_extension": ".py",
   "mimetype": "text/x-python",
   "name": "python",
   "nbconvert_exporter": "python",
   "pygments_lexer": "ipython3",
   "version": "3.9.7"
  }
 },
 "nbformat": 4,
 "nbformat_minor": 2
}
